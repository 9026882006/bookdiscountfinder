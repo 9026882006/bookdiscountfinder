{
 "cells": [
  {
   "cell_type": "code",
   "execution_count": 149,
   "metadata": {
    "collapsed": true
   },
   "outputs": [],
   "source": [
    "url = 'https://www.amazon.in/s/ref=sr_nr_n_14?fst=as%3Aoff&rh=n%3A1637083031%2Ck%3Abooks&keywords=books&ie=UTF8&qid=1524199879&rnid=3576079031'"
   ]
  },
  {
   "cell_type": "code",
   "execution_count": 150,
   "metadata": {
    "collapsed": true
   },
   "outputs": [],
   "source": [
    "url1 = 'https://www.amazon.in/One-Mans-Meat-Short-Stories-ebook/dp/B005HW21EO/ref=sr_1_4?s=digital-text&ie=UTF8&qid=1524295622&sr=1-4&keywords=books&dpID=51nWAx%252B9a6L&preST=_SY445_QL70_&dpSrc=srch'"
   ]
  },
  {
   "cell_type": "code",
   "execution_count": 151,
   "metadata": {
    "collapsed": true
   },
   "outputs": [],
   "source": [
    "url2 = 'https://www.amazon.in/Miracle-Love-Stories-about-Karoli-ebook/dp/B00NMWC0C4/ref=sr_1_18?s=digital-text&ie=UTF8&qid=1524291874&sr=1-18&keywords=books'"
   ]
  },
  {
   "cell_type": "code",
   "execution_count": null,
   "metadata": {
    "collapsed": true
   },
   "outputs": [],
   "source": []
  },
  {
   "cell_type": "code",
   "execution_count": 1,
   "metadata": {
    "collapsed": true
   },
   "outputs": [],
   "source": [
    "from selenium import webdriver\n",
    "from selenium.webdriver.common import keys\n"
   ]
  },
  {
   "cell_type": "code",
   "execution_count": 2,
   "metadata": {
    "collapsed": true
   },
   "outputs": [],
   "source": [
    "driver = webdriver.Chrome()"
   ]
  },
  {
   "cell_type": "code",
   "execution_count": 4,
   "metadata": {},
   "outputs": [
    {
     "ename": "NameError",
     "evalue": "name 'url2' is not defined",
     "output_type": "error",
     "traceback": [
      "\u001b[1;31m---------------------------------------------------------------------------\u001b[0m",
      "\u001b[1;31mNameError\u001b[0m                                 Traceback (most recent call last)",
      "\u001b[1;32m<ipython-input-4-9ef5417be0ab>\u001b[0m in \u001b[0;36m<module>\u001b[1;34m()\u001b[0m\n\u001b[1;32m----> 1\u001b[1;33m \u001b[0mdriver\u001b[0m\u001b[1;33m.\u001b[0m\u001b[0mget\u001b[0m\u001b[1;33m(\u001b[0m\u001b[0murl2\u001b[0m\u001b[1;33m)\u001b[0m\u001b[1;33m\u001b[0m\u001b[0m\n\u001b[0m",
      "\u001b[1;31mNameError\u001b[0m: name 'url2' is not defined"
     ]
    }
   ],
   "source": [
    "driver.get(url2)"
   ]
  },
  {
   "cell_type": "code",
   "execution_count": null,
   "metadata": {
    "collapsed": true
   },
   "outputs": [],
   "source": [
    "titleItem = driver.find_element_by_id('ebooksProductTitle')"
   ]
  },
  {
   "cell_type": "code",
   "execution_count": null,
   "metadata": {
    "collapsed": true
   },
   "outputs": [],
   "source": [
    "title =titleItem.text"
   ]
  },
  {
   "cell_type": "code",
   "execution_count": null,
   "metadata": {
    "collapsed": true
   },
   "outputs": [],
   "source": [
    "contributer_item=driver.find_element_by_class_name('contributorNameID')"
   ]
  },
  {
   "cell_type": "code",
   "execution_count": null,
   "metadata": {
    "collapsed": true
   },
   "outputs": [],
   "source": [
    "author =contributer_item.text"
   ]
  },
  {
   "cell_type": "code",
   "execution_count": null,
   "metadata": {
    "collapsed": true
   },
   "outputs": [],
   "source": [
    "rating_item = driver.find_element_by_id('acrPopover')"
   ]
  },
  {
   "cell_type": "code",
   "execution_count": null,
   "metadata": {
    "collapsed": true
   },
   "outputs": [],
   "source": [
    "rated=rating_item.get_attribute('title')"
   ]
  },
  {
   "cell_type": "code",
   "execution_count": null,
   "metadata": {
    "collapsed": true
   },
   "outputs": [],
   "source": [
    "rating=rated.split()"
   ]
  },
  {
   "cell_type": "code",
   "execution_count": null,
   "metadata": {
    "collapsed": true
   },
   "outputs": [],
   "source": [
    "rating=float(rating[0])"
   ]
  },
  {
   "cell_type": "code",
   "execution_count": null,
   "metadata": {
    "collapsed": true
   },
   "outputs": [],
   "source": [
    "review_item = driver.find_element_by_id('acrCustomerReviewText')"
   ]
  },
  {
   "cell_type": "code",
   "execution_count": null,
   "metadata": {
    "collapsed": true
   },
   "outputs": [],
   "source": [
    "reviews=review_item.text"
   ]
  },
  {
   "cell_type": "code",
   "execution_count": null,
   "metadata": {
    "collapsed": true
   },
   "outputs": [],
   "source": [
    "review_count=int(reviews.split()[0])"
   ]
  },
  {
   "cell_type": "code",
   "execution_count": null,
   "metadata": {
    "collapsed": true
   },
   "outputs": [],
   "source": [
    "selling_price = 0.0\n",
    "try:\n",
    "    selling_item = driver.find_element_by_css_selector('#unqualifiedBuyBox > div > div.a-text-center.a-spacing-mini > span')\n",
    "except:\n",
    "    try:\n",
    "        selling_item = driver.find_element_by_css_selector('#buybox > div > table > tbody > tr.kindle-price > td.a-color-price')\n",
    "    except:\n",
    "        print('error')\n",
    "    "
   ]
  },
  {
   "cell_type": "code",
   "execution_count": null,
   "metadata": {
    "collapsed": true
   },
   "outputs": [],
   "source": [
    "selling_text = selling_item.text"
   ]
  },
  {
   "cell_type": "code",
   "execution_count": null,
   "metadata": {
    "collapsed": true
   },
   "outputs": [],
   "source": [
    "sale=selling_text.split()"
   ]
  },
  {
   "cell_type": "code",
   "execution_count": null,
   "metadata": {
    "collapsed": true
   },
   "outputs": [],
   "source": [
    "sale"
   ]
  },
  {
   "cell_type": "code",
   "execution_count": null,
   "metadata": {
    "collapsed": true
   },
   "outputs": [],
   "source": []
  },
  {
   "cell_type": "code",
   "execution_count": null,
   "metadata": {
    "collapsed": true
   },
   "outputs": [],
   "source": [
    " try:\n",
    "    current_price = float(sale[0])\n",
    "    old_price = float(sale[2])\n",
    "    discount = sale[3]\n",
    "    discount = float(discount[1:-2])\n",
    "except:\n",
    "    current_price=sale[0]"
   ]
  },
  {
   "cell_type": "code",
   "execution_count": null,
   "metadata": {
    "collapsed": true
   },
   "outputs": [],
   "source": [
    "sliderLink = driver.find_element_by_id('showMoreFormatsPrompt')"
   ]
  },
  {
   "cell_type": "code",
   "execution_count": null,
   "metadata": {
    "collapsed": true
   },
   "outputs": [],
   "source": [
    "sliderLink.click()"
   ]
  },
  {
   "cell_type": "code",
   "execution_count": null,
   "metadata": {
    "collapsed": true
   },
   "outputs": [],
   "source": [
    "title_row_item=driver.find_elements_by_class_name('dp-title-col')\n",
    "price_row_item=driver.find_elements_by_class_name('dp-price-col')\n",
    "newprice_row_item=driver.find_elements_by_class_name('dp-new-col')"
   ]
  },
  {
   "cell_type": "code",
   "execution_count": null,
   "metadata": {
    "collapsed": true
   },
   "outputs": [],
   "source": [
    "count=0\n",
    "for title_item,price_item,newprice_item in zip(title_row_item,price_row_item,newprice_row_item):\n",
    "    if count==0:\n",
    "        count+=1\n",
    "        continue\n",
    "    print(title_item.text,price_item.text,newprice_item.text)\n",
    "    \n",
    "    "
   ]
  },
  {
   "cell_type": "code",
   "execution_count": null,
   "metadata": {
    "collapsed": true
   },
   "outputs": [],
   "source": [
    "formats = []\n",
    "for title_item, price_item, newprice_item in zip(title_row_item, price_row_item, newprice_row_item):\n",
    "    if count == 0:\n",
    "    count += 1\n",
    "    continue\n",
    "    formats.append(dict(format=title_item.text,\n",
    "    baseprice=price_item.text,\n",
    "    newprice=newprice_item.text))\n"
   ]
  },
  {
   "cell_type": "code",
   "execution_count": null,
   "metadata": {
    "collapsed": true
   },
   "outputs": [],
   "source": [
    "(dict(\n",
    "            title=title,\n",
    "            author=author,\n",
    "            review_count=review_count,\n",
    "            rating=rating,\n",
    "            current_price=current_price,\n",
    "            old_price=old_price,\n",
    "            discount=discount,\n",
    "            formats=formats ))"
   ]
  },
  {
   "cell_type": "code",
   "execution_count": 1,
   "metadata": {
    "collapsed": true
   },
   "outputs": [],
   "source": [
    "urlsnap = 'https://www.snapdeal.com/search?keyword=biographies%20%26%20autobiographies&santizedKeyword=management+books&catId=0&categoryId=0&suggested=true&vertical=p&noOfResults=20&clickSrc=suggested&lastKeyword=&prodCatId=&changeBackToAll=false&foundInAll=false&categoryIdSearched=&cityPageUrl=&categoryUrl=&url=&utmContent=&dealDetail=&sort=rlvncy'\n"
   ]
  },
  {
   "cell_type": "code",
   "execution_count": 5,
   "metadata": {
    "collapsed": true
   },
   "outputs": [],
   "source": [
    "driver.get(urlsnap)"
   ]
  },
  {
   "cell_type": "code",
   "execution_count": 23,
   "metadata": {
    "collapsed": true
   },
   "outputs": [],
   "source": [
    "import requests\n",
    "from bs4 import BeautifulSoup as bs\n"
   ]
  },
  {
   "cell_type": "code",
   "execution_count": 30,
   "metadata": {
    "collapsed": true
   },
   "outputs": [],
   "source": []
  },
  {
   "cell_type": "code",
   "execution_count": 34,
   "metadata": {},
   "outputs": [
    {
     "name": "stdout",
     "output_type": "stream",
     "text": [
      "https://www.snapdeal.com/product/pablo-neruda-poet-of-the/686380000173\n",
      "https://www.snapdeal.com/product/last-airlift-a-vietnamese-orphans/675217560360\n",
      "https://www.snapdeal.com/product/carry-on-mr-bowditch/667710199173\n",
      "https://www.snapdeal.com/product/wings-of-fire/633154805573\n",
      "https://www.snapdeal.com/product/autobiography-of-a-yogi/661901049480\n",
      "https://www.snapdeal.com/product/the-autobiography-of-malcolm-x/646051877288\n",
      "https://www.snapdeal.com/product/autobiography-of-a-yogi-bengali/628691846500\n",
      "https://www.snapdeal.com/product/the-gita-for-children/681579702783\n",
      "https://www.snapdeal.com/product/nine-months-in-my-mommy/619975810736\n",
      "https://www.snapdeal.com/product/business-kohinoor-ratan-tata/668082968431\n",
      "https://www.snapdeal.com/product/autobiography-of-a-yogi/636148842319\n",
      "https://www.snapdeal.com/product/sachin-tendulkar/626575584054\n",
      "https://www.snapdeal.com/product/the-story-of-my-experiments/657389003532\n",
      "https://www.snapdeal.com/product/unbreakable-an-autobiography/684409962838\n",
      "https://www.snapdeal.com/product/how-to-be-a-bawse/686385176938\n",
      "https://www.snapdeal.com/product/sachin-tendulkar-playing-it-my/681760592463\n",
      "https://www.snapdeal.com/product/mahatma-gandhi/670122511846\n",
      "https://www.snapdeal.com/product/gautama-buddha-the-lord-of/624372623368\n",
      "https://www.snapdeal.com/product/mera-aajeevan-karavas/641910347805\n",
      "https://www.snapdeal.com/product/autobiography-of-a-yogi/667394012122\n",
      "{'https://www.snapdeal.com/product/autobiography-of-a-yogi/661901049480', 'https://www.snapdeal.com/product/business-kohinoor-ratan-tata/668082968431', 'https://www.snapdeal.com/product/the-gita-for-children/681579702783', 'https://www.snapdeal.com/product/gautama-buddha-the-lord-of/624372623368', 'https://www.snapdeal.com/product/unbreakable-an-autobiography/684409962838', 'https://www.snapdeal.com/product/how-to-be-a-bawse/686385176938', 'https://www.snapdeal.com/product/sachin-tendulkar-playing-it-my/681760592463', 'https://www.snapdeal.com/product/sachin-tendulkar/626575584054', 'https://www.snapdeal.com/product/pablo-neruda-poet-of-the/686380000173', 'https://www.snapdeal.com/product/last-airlift-a-vietnamese-orphans/675217560360', 'https://www.snapdeal.com/product/wings-of-fire/633154805573', 'https://www.snapdeal.com/product/the-story-of-my-experiments/657389003532', 'https://www.snapdeal.com/product/mera-aajeevan-karavas/641910347805', 'https://www.snapdeal.com/product/autobiography-of-a-yogi-bengali/628691846500', 'https://www.snapdeal.com/product/carry-on-mr-bowditch/667710199173', 'https://www.snapdeal.com/product/autobiography-of-a-yogi/636148842319', 'https://www.snapdeal.com/product/nine-months-in-my-mommy/619975810736', 'https://www.snapdeal.com/product/the-autobiography-of-malcolm-x/646051877288', 'https://www.snapdeal.com/product/autobiography-of-a-yogi/667394012122', 'https://www.snapdeal.com/product/mahatma-gandhi/670122511846'}\n"
     ]
    }
   ],
   "source": [
    "fetch_snapdeal(base_url=urlsnap,headers={'User-Agent': 'Mozilla/5.0 (Windows NT 10.0; Win64; x64) AppleWebKit/537.36 (KHTML, like Gecko) Chrome/65.0.3325.181 Safari/537.36'})"
   ]
  },
  {
   "cell_type": "code",
   "execution_count": 3,
   "metadata": {
    "collapsed": true
   },
   "outputs": [],
   "source": [
    "url= 'https://www.snapdeal.com/product/pablo-neruda-poet-of-the/686380000173'\n",
    "url2= 'https://www.snapdeal.com/product/sachin-tendulkar/626575584054'\n",
    "url3 = 'https://www.snapdeal.com/product/carry-on-mr-bowditch/667710199173'"
   ]
  },
  {
   "cell_type": "code",
   "execution_count": 4,
   "metadata": {
    "collapsed": true
   },
   "outputs": [],
   "source": [
    "driver.get(url3)"
   ]
  },
  {
   "cell_type": "code",
   "execution_count": 73,
   "metadata": {},
   "outputs": [
    {
     "data": {
      "text/plain": [
       "'Sachin Tendulkar'"
      ]
     },
     "execution_count": 73,
     "metadata": {},
     "output_type": "execute_result"
    }
   ],
   "source": [
    "title_item =driver.find_element_by_css_selector('#productOverview > div > div > div > div > div > h1')\n",
    "title_item.text"
   ]
  },
  {
   "cell_type": "code",
   "execution_count": 17,
   "metadata": {},
   "outputs": [
    {
     "name": "stdout",
     "output_type": "stream",
     "text": [
      "Jean Lee\n",
      "Jean Lee\n"
     ]
    }
   ],
   "source": [
    "try:\n",
    "    author_item = driver.find_element_by_css_selector('div.spec-body > div.detailssubbox')\n",
    "    author_text=author_item.find_elements_by_tag_name('p')\n",
    "    for pos, para in enumerate(author_text):\n",
    "        found = para.text.find('About the Author')\n",
    "        if found == 0:\n",
    "            author = ' '.join(author_text[pos+1].text.split()[0:2])\n",
    "            break;\n",
    "except Exception as e:\n",
    "    print(e)\n",
    "    author = 'n/a'\n",
    "print(author)"
   ]
  },
  {
   "cell_type": "code",
   "execution_count": 77,
   "metadata": {},
   "outputs": [
    {
     "data": {
      "text/plain": [
       "''"
      ]
     },
     "execution_count": 77,
     "metadata": {},
     "output_type": "execute_result"
    }
   ],
   "source": [
    "rating_item=driver.find_element_by_css_selector('div.filled-stars')\n",
    "rating_item.text"
   ]
  },
  {
   "cell_type": "code",
   "execution_count": 81,
   "metadata": {},
   "outputs": [
    {
     "name": "stdout",
     "output_type": "stream",
     "text": [
      "3.0\n"
     ]
    }
   ],
   "source": [
    "try:\n",
    "    rating_item = driver.find_element_by_css_selector('span.avrg-rating')\n",
    "    rating=float(rating_item.text[1:-1])\n",
    "except:\n",
    "    rating =0 \n",
    "print(rating)"
   ]
  },
  {
   "cell_type": "code",
   "execution_count": 86,
   "metadata": {},
   "outputs": [
    {
     "name": "stdout",
     "output_type": "stream",
     "text": [
      "2\n"
     ]
    }
   ],
   "source": [
    "try:\n",
    "    review_item = driver.find_element_by_css_selector('span.total-rating')\n",
    "    review_item.text\n",
    "    review_count=int(review_item.text.split()[0])\n",
    "except Exception as e:\n",
    "    print(e)\n",
    "    review_count=0\n",
    "print(review_count)"
   ]
  },
  {
   "cell_type": "code",
   "execution_count": 89,
   "metadata": {},
   "outputs": [
    {
     "data": {
      "text/plain": [
       "48.0"
      ]
     },
     "execution_count": 89,
     "metadata": {},
     "output_type": "execute_result"
    }
   ],
   "source": [
    "selling_item = driver.find_element_by_css_selector('span.pdp-final-price > spaN.payBlkBig')\n",
    "selling_price = float(selling_item.text)\n",
    "selling_price"
   ]
  },
  {
   "cell_type": "code",
   "execution_count": 90,
   "metadata": {},
   "outputs": [
    {
     "data": {
      "text/plain": [
       "60.0"
      ]
     },
     "execution_count": 90,
     "metadata": {},
     "output_type": "execute_result"
    }
   ],
   "source": [
    "oldprice_item = driver.find_element_by_css_selector('div.pdpCutPrice')\n",
    "oldprice_text = oldprice_item.text\n",
    "oldprice=oldprice_text.split()[2]\n",
    "oldprice=float(oldprice.replace(',',''))\n",
    "oldprice"
   ]
  },
  {
   "cell_type": "code",
   "execution_count": 91,
   "metadata": {},
   "outputs": [
    {
     "data": {
      "text/plain": [
       "20.0"
      ]
     },
     "execution_count": 91,
     "metadata": {},
     "output_type": "execute_result"
    }
   ],
   "source": [
    "discount_item = driver.find_element_by_css_selector('span.pdpDiscount>span')\n",
    "discount = float(discount_item.text)\n",
    "discount"
   ]
  },
  {
   "cell_type": "code",
   "execution_count": null,
   "metadata": {
    "collapsed": true
   },
   "outputs": [],
   "source": []
  }
 ],
 "metadata": {
  "kernelspec": {
   "display_name": "Python 3",
   "language": "python",
   "name": "python3"
  },
  "language_info": {
   "codemirror_mode": {
    "name": "ipython",
    "version": 3
   },
   "file_extension": ".py",
   "mimetype": "text/x-python",
   "name": "python",
   "nbconvert_exporter": "python",
   "pygments_lexer": "ipython3",
   "version": "3.6.3"
  }
 },
 "nbformat": 4,
 "nbformat_minor": 2
}
